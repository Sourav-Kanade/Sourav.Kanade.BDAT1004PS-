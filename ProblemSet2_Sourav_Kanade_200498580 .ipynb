{
 "cells": [
  {
   "cell_type": "markdown",
   "id": "a6640d12",
   "metadata": {},
   "source": [
    "# Problem Set 2"
   ]
  },
  {
   "cell_type": "code",
   "execution_count": 1,
   "id": "3861bb27",
   "metadata": {},
   "outputs": [
    {
     "data": {
      "text/plain": [
       "6"
      ]
     },
     "execution_count": 1,
     "metadata": {},
     "output_type": "execute_result"
    }
   ],
   "source": [
    "## Question 1\n",
    "a = 0\n",
    "def b():\n",
    "    global a\n",
    "    a = c(a)\n",
    "    \n",
    "def c(a):\n",
    "    return a + 2\n",
    "\n",
    "b()\n",
    "b()\n",
    "b()\n",
    "a"
   ]
  },
  {
   "cell_type": "markdown",
   "id": "5f636a40",
   "metadata": {},
   "source": [
    "##  Initallly the value of variable \"a\" is 0. In every iteration the value of variable \"a\" is being incremented by 2. So after 3 iterations the value of \"a\" turns out to be 6.\n"
   ]
  },
  {
   "cell_type": "code",
   "execution_count": 2,
   "id": "058fe976",
   "metadata": {},
   "outputs": [
    {
     "name": "stdout",
     "output_type": "stream",
     "text": [
      "File idterm.py not found.\n"
     ]
    }
   ],
   "source": [
    "## Question 2\n",
    "def file_length(file_name):\n",
    "    try:\n",
    "        file = open(file_name)\n",
    "        contents = file.read()\n",
    "        file.close()\n",
    "        print(len(contents))\n",
    "    except:\n",
    "        print(\"File \" +file_name + \" not found.\")\n",
    "        \n",
    "    \n",
    "file_length('idterm.py')    "
   ]
  },
  {
   "cell_type": "code",
   "execution_count": 3,
   "id": "3e834331",
   "metadata": {},
   "outputs": [
    {
     "name": "stdout",
     "output_type": "stream",
     "text": [
      "['doll', 'firetruck', 'kitten']\n",
      "['doll', 'firetruck', 'kitten']\n",
      "I am kangaroo located at coordinates (3,0)\n"
     ]
    }
   ],
   "source": [
    "## Question 3\n",
    "class Marsupial:\n",
    "    def __init__(self):\n",
    "         self.pouch = []\n",
    "    def put_in_pouch(self,name):\n",
    "          self.pouch.append(name)\n",
    "    def pouch_contents(self):\n",
    "        print(self.pouch)\n",
    "\n",
    "m = Marsupial()\n",
    "m.put_in_pouch('doll')\n",
    "m.put_in_pouch('firetruck')\n",
    "m.put_in_pouch('kitten')\n",
    "m.pouch_contents()\n",
    "\n",
    "class Kangaroo(Marsupial):\n",
    "  def __init__(self,x,y):\n",
    "    super().__init__()\n",
    "    self.x = x\n",
    "    self.y = y\n",
    "  \n",
    "  def jump(self,x_axis,y_axis):\n",
    "    self.x += x_axis\n",
    "    self.y += y_axis\n",
    "  \n",
    "  def __str__(self):\n",
    "    return f\"I am kangaroo located at coordinates ({self.x},{self.y})\"\n",
    "\n",
    "k = Kangaroo(0,0)\n",
    "k.put_in_pouch('doll')\n",
    "k.put_in_pouch('firetruck')\n",
    "k.put_in_pouch('kitten')\n",
    "k.pouch_contents()\n",
    "k.jump(1,0)\n",
    "k.jump(1,0)\n",
    "k.jump(1,0)\n",
    "print(k)"
   ]
  },
  {
   "cell_type": "code",
   "execution_count": 4,
   "id": "9ff6a323",
   "metadata": {},
   "outputs": [
    {
     "name": "stdout",
     "output_type": "stream",
     "text": [
      "10\n",
      "5\n",
      "16\n",
      "8\n",
      "4\n",
      "2\n",
      "1\n"
     ]
    }
   ],
   "source": [
    "## Question 4\n",
    "def collatz(n):\n",
    "    print(n)\n",
    "    if n==1:\n",
    "        return\n",
    "    if n%2==0:\n",
    "        collatz(n//2)\n",
    "    else:\n",
    "        collatz((n*3)+1)\n",
    "collatz(10)"
   ]
  },
  {
   "cell_type": "code",
   "execution_count": 5,
   "id": "f42de8c5",
   "metadata": {},
   "outputs": [
    {
     "name": "stdout",
     "output_type": "stream",
     "text": [
      "0\n",
      "1\n",
      "11\n",
      "1001\n"
     ]
    }
   ],
   "source": [
    "## Question 5\n",
    "def binary(n):\n",
    "    if n == 0:\n",
    "        return 0\n",
    "    no = binary(n//2)\n",
    "    return n % 2 + 10 * no\n",
    "   \n",
    "\n",
    "print(binary(0))\n",
    "print(binary(1))\n",
    "print(binary(3))  \n",
    "print(binary(9))"
   ]
  },
  {
   "cell_type": "code",
   "execution_count": 6,
   "id": "0ce0058e",
   "metadata": {},
   "outputs": [
    {
     "name": "stdout",
     "output_type": "stream",
     "text": [
      "W3C Mission\n",
      " Principles\n",
      " "
     ]
    }
   ],
   "source": [
    "## Question 6\n",
    "from html.parser import HTMLParser\n",
    "from bs4 import BeautifulSoup\n",
    "infile = open(\"C:/Users/soura/OneDrive/Desktop/w3c.txt\")\n",
    "content = infile.read()\n",
    "infile.close()\n",
    "hp = HTMLParser()\n",
    "hp.feed(content)\n",
    "\n",
    "Parse = BeautifulSoup(content, 'lxml')\n",
    "heading_tags = [\"h1\", \"h2\"]\n",
    "for tags in Parse.find_all(heading_tags):\n",
    "    print(tags.text.strip(),end='\\n ')"
   ]
  },
  {
   "cell_type": "code",
   "execution_count": 10,
   "id": "e60d606f",
   "metadata": {
    "scrolled": true
   },
   "outputs": [
    {
     "name": "stdout",
     "output_type": "stream",
     "text": [
      "https://www.webscraper.io/test-sites/e-commerce/static\n",
      " https://forum.webscraper.io/\n",
      " https://chrome.google.com/webstore/detail/web-scraper/jnhgnonknehpejjnehehllkliplmbmhn?hl=en\n",
      " https://cloud.webscraper.io/\n",
      " https://forum.webscraper.io/\n",
      " https://www.facebook.com/webscraperio/\n",
      " https://twitter.com/webscraperio\n"
     ]
    }
   ],
   "source": [
    "## Question 7\n",
    "from urllib.request import Request, urlopen\n",
    "import re\n",
    "from bs4 import BeautifulSoup\n",
    "def webdir(url,depth,indent):\n",
    "    if depth ==0:\n",
    "        return \n",
    "    print(\" \"*indent+ f\"{url}\")\n",
    "    req = Request(url)\n",
    "    html_page = urlopen(req)\n",
    "    soup = BeautifulSoup(html_page, \"lxml\")\n",
    "    links = []\n",
    "    for link in soup.findAll('a'):\n",
    "        if link.get('href') and 'https' ==  link.get('href')[:5]:\n",
    "            links.append(link.get('href'))\n",
    "    for link in links:\n",
    "        webdir(link,depth-1,indent+1)\n",
    "\n",
    "webdir('https://www.webscraper.io/test-sites/e-commerce/static', 2, 0)\n"
   ]
  },
  {
   "cell_type": "code",
   "execution_count": 8,
   "id": "c118b884",
   "metadata": {},
   "outputs": [],
   "source": [
    "## Question 8"
   ]
  },
  {
   "cell_type": "code",
   "execution_count": 9,
   "id": "93b85443",
   "metadata": {},
   "outputs": [
    {
     "name": "stdout",
     "output_type": "stream",
     "text": [
      "['THE', 'QUICK', 'BROWN', 'FOX', 'JUMPS', 'OVER', 'THE', 'LAZY', 'DOG']\n",
      "['the', 'quick', 'brown', 'fox', 'jumps', 'over', 'the', 'lazy', 'dog']\n",
      "[3, 5, 5, 3, 5, 4, 3, 4, 3]\n",
      "[['THE', 'the', 3], ['QUICK', 'quick', 5], ['BROWN', 'brown', 5], ['FOX', 'fox', 3], ['JUMPS', 'jumps', 5], ['OVER', 'over', 4], ['THE', 'the', 3], ['LAZY', 'lazy', 4], ['DOG', 'dog', 3]]\n",
      "['quick', 'brown', 'jumps', 'over', 'lazy']\n"
     ]
    }
   ],
   "source": [
    "## Question 9\n",
    "words = ['The', 'quick', 'brown', 'fox', 'jumps', 'over', 'the', 'lazy', 'dog']\n",
    "print([word.upper() for word in words ])\n",
    "print([word.lower() for word in words ])\n",
    "print([len(word) for word in words ])\n",
    "print([[word.upper(),word.lower(),len(word)] for word in words ])\n",
    "print([word for word in words if len(word)>=4])  "
   ]
  },
  {
   "cell_type": "code",
   "execution_count": null,
   "id": "3613f3c2",
   "metadata": {},
   "outputs": [],
   "source": []
  },
  {
   "cell_type": "code",
   "execution_count": null,
   "id": "be5040c2",
   "metadata": {},
   "outputs": [],
   "source": []
  }
 ],
 "metadata": {
  "kernelspec": {
   "display_name": "Python 3 (ipykernel)",
   "language": "python",
   "name": "python3"
  },
  "language_info": {
   "codemirror_mode": {
    "name": "ipython",
    "version": 3
   },
   "file_extension": ".py",
   "mimetype": "text/x-python",
   "name": "python",
   "nbconvert_exporter": "python",
   "pygments_lexer": "ipython3",
   "version": "3.7.13"
  }
 },
 "nbformat": 4,
 "nbformat_minor": 5
}
